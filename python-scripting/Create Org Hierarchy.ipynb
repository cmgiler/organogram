{
 "cells": [
  {
   "cell_type": "markdown",
   "metadata": {},
   "source": [
    "# Script to Build Hierarchical Structure of a Dummy Organization"
   ]
  },
  {
   "cell_type": "markdown",
   "metadata": {},
   "source": [
    "### Desired Data Structure:\n",
    "\n",
    "Should include the following fields (example shown):\n",
    "\n",
    "```json\n",
    "{\n",
    "    \"Name\": \"John Doe\",\n",
    "    \"Hire Date\": \"2019-01-01\",\n",
    "    \"Job Title\": \"Analytics Supervisor\",\n",
    "    \"Region\": \"NA\",\n",
    "    \"Location\": \"New York, NY\",\n",
    "    \"Client\": \"Google\",\n",
    "    \"Line Manager\": \"Jane Smith\",\n",
    "    \"Photo\": \"headshots/john_doe1.jpg\"\n",
    "}\n",
    "```\n",
    "\n",
    "Try using [Faker](https://faker.readthedocs.io/en/master/) to generate data"
   ]
  },
  {
   "cell_type": "code",
   "execution_count": null,
   "metadata": {},
   "outputs": [],
   "source": []
  }
 ],
 "metadata": {
  "kernelspec": {
   "display_name": "Python 3",
   "language": "python",
   "name": "python3"
  },
  "language_info": {
   "codemirror_mode": {
    "name": "ipython",
    "version": 3
   },
   "file_extension": ".py",
   "mimetype": "text/x-python",
   "name": "python",
   "nbconvert_exporter": "python",
   "pygments_lexer": "ipython3",
   "version": "3.7.3"
  }
 },
 "nbformat": 4,
 "nbformat_minor": 2
}
